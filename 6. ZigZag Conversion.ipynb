{
 "cells": [
  {
   "cell_type": "markdown",
   "metadata": {},
   "source": [
    "6. ZigZag Conversion\n",
    "\n",
    "The string \"PAYPALISHIRING\" is written in a zigzag pattern on a given number of rows like this: (you may want to display this pattern in a fixed font for better legibility)\n",
    "\n",
    "P   A   H   N\n",
    "A P L S I I G\n",
    "Y   I   R\n",
    "And then read line by line: \"PAHNAPLSIIGYIR\"\n",
    "\n",
    "Write the code that will take a string and make this conversion given a number of rows:\n",
    "\n",
    "string convert(string s, int numRows);\n",
    "Example 1:\n",
    "\n",
    "Input: s = \"PAYPALISHIRING\", numRows = 3\n",
    "Output: \"PAHNAPLSIIGYIR\"\n",
    "Example 2:\n",
    "\n",
    "Input: s = \"PAYPALISHIRING\", numRows = 4\n",
    "Output: \"PINALSIGYAHRPI\"\n",
    "Explanation:\n",
    "\n",
    "P     I    N\n",
    "A   L S  I G\n",
    "Y A   H R\n",
    "P     I\n",
    "\n",
    "0,6,12,\n",
    "\n",
    "1,5,7,11,13\n",
    "\n",
    "\n",
    "\n",
    "3,9,15"
   ]
  },
  {
   "cell_type": "code",
   "execution_count": 13,
   "metadata": {},
   "outputs": [],
   "source": [
    "class Solution:\n",
    "    def convert(self, s, numRows):\n",
    "        \"\"\"\n",
    "        :type s: str\n",
    "        :type numRows: int\n",
    "        :rtype: str\n",
    "        \"\"\"\n",
    "        list_input=[]\n",
    "        list_output=[]\n",
    "        ans=[]\n",
    "        for char in s:\n",
    "            list_input.append(char)          \n",
    "        x,y = 0\n",
    "        while (numRows*x+numRows-2)<len(list_input):\n",
    "            x+=1\n",
    "        x-=1\n",
    "        while (numRows*x+j)!=len(list_input):\n",
    "            y+=1\n",
    "        complete_zig = x\n",
    "        tail = y\n",
    "        for line in range(0,numRows):\n",
    "            n=0\n",
    "            if line == 0 or line==numRows-1:\n",
    "                while(line+(2*numRows-2)*n<len(list_input)):\n",
    "                    ans.append[list_input[line+(2*numRows-2)*n]]\n",
    "                    n+=1\n",
    "            else:\n",
    "                "
   ]
  }
 ],
 "metadata": {
  "kernelspec": {
   "display_name": "Python 3",
   "language": "python",
   "name": "python3"
  },
  "language_info": {
   "codemirror_mode": {
    "name": "ipython",
    "version": 3
   },
   "file_extension": ".py",
   "mimetype": "text/x-python",
   "name": "python",
   "nbconvert_exporter": "python",
   "pygments_lexer": "ipython3",
   "version": "3.6.5"
  }
 },
 "nbformat": 4,
 "nbformat_minor": 2
}
